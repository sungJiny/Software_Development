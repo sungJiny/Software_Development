{
 "cells": [
  {
   "cell_type": "code",
   "execution_count": null,
   "metadata": {},
   "outputs": [],
   "source": [
    "# 만들자!! 화이팅"
   ]
  },
  {
   "cell_type": "markdown",
   "metadata": {},
   "source": [
    "# DB 만들기"
   ]
  },
  {
   "cell_type": "code",
   "execution_count": 2,
   "metadata": {},
   "outputs": [],
   "source": [
    "import sqlite3"
   ]
  },
  {
   "cell_type": "code",
   "execution_count": 24,
   "metadata": {},
   "outputs": [],
   "source": [
    "conn = sqlite3.connect('late.db')\n",
    "cur = conn.cursor()\n",
    "cur.executescript('''\n",
    "    DROP TABLE IF EXISTS Member;\n",
    "    CREATE TABLE Member(\n",
    "        id INTEGER PRIMARY KEY AUTOINCREMENT,\n",
    "        name  TEXT   NOT NULL,\n",
    "        deposit   INT    NOT NULL\n",
    "    )\n",
    "''')\n",
    "cur.executescript('''\n",
    "    INSERT INTO Member VALUES(1, '김성진', 10000);\n",
    "    INSERT INTO Member VALUES(2,'허진용', 10000);\n",
    "    INSERT INTO Member VALUES(3,'한상훈', 10000);\n",
    "    INSERT INTO Member VALUES(4,'서재완', 10000);\n",
    "''')\n",
    "conn.commit()"
   ]
  },
  {
   "cell_type": "code",
   "execution_count": 25,
   "metadata": {},
   "outputs": [],
   "source": [
    "cur.executescript('''\n",
    "    UPDATE Member SET deposit = deposit - 2000 WHERE name = '김성진'\n",
    "''')\n",
    "conn.commit()"
   ]
  },
  {
   "cell_type": "markdown",
   "metadata": {},
   "source": [
    "# 로직\n",
    "    단순한 로직이지만, 텍스트가 들어왔을 때 split을 하고 지각이라고 표시된 경우에는 패널티가 부여되는 형식으로 만들어 냈음"
   ]
  },
  {
   "cell_type": "code",
   "execution_count": 134,
   "metadata": {},
   "outputs": [],
   "source": [
    "# 예시 텍스트\n",
    "a = \"\"\"성진 지각\n",
    "상훈 지각\n",
    "진용 지각\n",
    "\"\"\""
   ]
  },
  {
   "cell_type": "code",
   "execution_count": 135,
   "metadata": {},
   "outputs": [],
   "source": [
    "res = a.split()"
   ]
  },
  {
   "cell_type": "code",
   "execution_count": 136,
   "metadata": {},
   "outputs": [],
   "source": [
    "# Member들\n",
    "cur.execute('SELECT name FROM Member')\n",
    "member_list = cur.fetchall()\n",
    "member = list(x[0] for x in member_list)"
   ]
  },
  {
   "cell_type": "code",
   "execution_count": 137,
   "metadata": {},
   "outputs": [
    {
     "data": {
      "text/plain": [
       "['김성진', '허진용', '한상훈', '서재완']"
      ]
     },
     "execution_count": 137,
     "metadata": {},
     "output_type": "execute_result"
    }
   ],
   "source": [
    "member"
   ]
  },
  {
   "cell_type": "code",
   "execution_count": 138,
   "metadata": {},
   "outputs": [],
   "source": [
    "late_list = []\n",
    "for i in range(0, len(res), 2):\n",
    "    if res[i + 1] == '지각':\n",
    "        late_list.append(res[i])"
   ]
  },
  {
   "cell_type": "code",
   "execution_count": 140,
   "metadata": {},
   "outputs": [
    {
     "data": {
      "text/plain": [
       "['성진', '상훈', '진용']"
      ]
     },
     "execution_count": 140,
     "metadata": {},
     "output_type": "execute_result"
    }
   ],
   "source": [
    "late_list"
   ]
  },
  {
   "cell_type": "code",
   "execution_count": 139,
   "metadata": {
    "scrolled": true
   },
   "outputs": [
    {
     "data": {
      "text/plain": [
       "['김성진', '허진용', '한상훈', '서재완']"
      ]
     },
     "execution_count": 139,
     "metadata": {},
     "output_type": "execute_result"
    }
   ],
   "source": [
    "member"
   ]
  },
  {
   "cell_type": "code",
   "execution_count": 141,
   "metadata": {},
   "outputs": [],
   "source": [
    "def add_member(name, deposit = 10000):\n",
    "    cur.executescript('INSERT INTO Member (name, deposit) VALUES('+  + ',' + name + ',' + deposit + ');')\n",
    "    conn.commit()\n",
    "        \n",
    "def penalty(name, pos = 2000):\n",
    "    cur.executescript(\n",
    "    \"UPDATE Member SET deposit = deposit -\" +  str(pos) + \" WHERE name = '\"+ name+ \"'\")\n",
    "    conn.commit()"
   ]
  },
  {
   "cell_type": "code",
   "execution_count": 142,
   "metadata": {},
   "outputs": [],
   "source": [
    "late = []\n",
    "\n",
    "for i in range(len(late_list)):\n",
    "    for j in range(len(member)):\n",
    "        if len(late_list[i]) == 2:  # 2개인 경우가 존재함\n",
    "            if late_list[i] == member[j][1:]:\n",
    "                late.append(member[j])\n",
    "        else:  # 3개인 경우가 존재함\n",
    "            late.append(member[j])\n",
    "\n",
    "for i in range(len(late)):\n",
    "    penalty(late[i])"
   ]
  }
 ],
 "metadata": {
  "kernelspec": {
   "display_name": "Python 3",
   "language": "python",
   "name": "python3"
  },
  "language_info": {
   "codemirror_mode": {
    "name": "ipython",
    "version": 3
   },
   "file_extension": ".py",
   "mimetype": "text/x-python",
   "name": "python",
   "nbconvert_exporter": "python",
   "pygments_lexer": "ipython3",
   "version": "3.7.6"
  }
 },
 "nbformat": 4,
 "nbformat_minor": 4
}
